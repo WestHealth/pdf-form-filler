{
 "cells": [
  {
   "cell_type": "markdown",
   "metadata": {},
   "source": [
    "## Unit Test\n",
    "Since this package requires inspection of pdf's to verify it is working correctly. A notebook is a convenient way to run the tests and document what should be seen."
   ]
  },
  {
   "cell_type": "code",
   "execution_count": null,
   "metadata": {},
   "outputs": [],
   "source": [
    "from pdf_form_filler import single_form_fill\n",
    "import json\n",
    "import os"
   ]
  },
  {
   "cell_type": "code",
   "execution_count": null,
   "metadata": {},
   "outputs": [],
   "source": [
    "test_dir = 'test'\n",
    "out_dir = 'test-out'"
   ]
  },
  {
   "cell_type": "markdown",
   "metadata": {},
   "source": [
    "### Info Test\n",
    "This tests the basic logic of the info function. It will also help elucidate the rest of the tests."
   ]
  },
  {
   "cell_type": "code",
   "execution_count": null,
   "metadata": {},
   "outputs": [],
   "source": [
    "pdf_form_info(pdfrw.PdfReader('test/full-sample.pdf'))"
   ]
  },
  {
   "cell_type": "markdown",
   "metadata": {},
   "source": [
    "### Basic Tests\n",
    "The file `basic.pdf` contains a straightforward test. No fields are repeated. But contains a checkbox. Very vanilla.\n",
    "We run three tests on it one where the `Opt in` option is not specified, is checked and is unchecked."
   ]
  },
  {
   "cell_type": "code",
   "execution_count": null,
   "metadata": {},
   "outputs": [],
   "source": [
    "## Unspecified. Opt in should remain unchecked\n",
    "with open(os.path.join(test_dir, 'basic-data.json')) as f:\n",
    "    data = json.load(f)\n",
    "single_form_fill(os.path.join(test_dir, 'basic.pdf'), data,\n",
    "                 os.path.join(out_dir, 'basic-unspecified.pdf'))"
   ]
  },
  {
   "cell_type": "code",
   "execution_count": null,
   "metadata": {},
   "outputs": [],
   "source": [
    "## Unchecked. Opt in should remain unchecked. This is also regression testing for a bug \n",
    "#    where an unchecking and unchecked box cause a traceback\n",
    "with open(os.path.join(test_dir, 'basic-data.json')) as f:\n",
    "    data = json.load(f)\n",
    "    data['Opt in'] = False\n",
    "single_form_fill(os.path.join(test_dir, 'basic.pdf'), data,\n",
    "                 os.path.join(out_dir, 'basic-unchecked.pdf'))"
   ]
  },
  {
   "cell_type": "code",
   "execution_count": null,
   "metadata": {},
   "outputs": [],
   "source": [
    "## Checked. Opt in should be checked.\n",
    "with open(os.path.join(test_dir, 'basic-data.json')) as f:\n",
    "    data = json.load(f)\n",
    "    data['Opt in']=True\n",
    "single_form_fill(os.path.join(test_dir, 'basic.pdf'), data,\n",
    "                 os.path.join(out_dir, 'basic-checked.pdf'))"
   ]
  },
  {
   "cell_type": "markdown",
   "metadata": {},
   "source": [
    "### Repeated Field\n",
    "This is a simple test to verify that when a field appears twice in a form they are both filled in. The file `repeated.pdf` has the `Name` appear twice. Once at the top and one under printed name. "
   ]
  },
  {
   "cell_type": "code",
   "execution_count": null,
   "metadata": {},
   "outputs": [],
   "source": [
    "with open(os.path.join(test_dir, 'basic-data.json')) as f:\n",
    "    data = json.load(f)\n",
    "single_form_fill(os.path.join(test_dir, 'repeated.pdf'), data,\n",
    "                 os.path.join(out_dir, 'repeated-test.pdf'))"
   ]
  },
  {
   "cell_type": "markdown",
   "metadata": {},
   "source": [
    "### Checked Tests\n",
    "The file `checked.pdf` is like the other test documents except the `Opt in` field is checked. This verifies the states when `Opt in` is unspecified, checked and unchecked."
   ]
  },
  {
   "cell_type": "code",
   "execution_count": null,
   "metadata": {},
   "outputs": [],
   "source": [
    "## Unspecified. Opt in should remain checked\n",
    "with open(os.path.join(test_dir, 'basic-data.json')) as f:\n",
    "    data = json.load(f)\n",
    "single_form_fill(os.path.join(test_dir, 'checked.pdf'), data,\n",
    "                 os.path.join(out_dir, 'checked-unspecified.pdf'))"
   ]
  },
  {
   "cell_type": "code",
   "execution_count": null,
   "metadata": {},
   "outputs": [],
   "source": [
    "## Unchecked. Opt in should be unchecked.\n",
    "with open(os.path.join(test_dir, 'basic-data.json')) as f:\n",
    "    data = json.load(f)\n",
    "    data['Opt in'] = False\n",
    "single_form_fill(os.path.join(test_dir, 'checked.pdf'), data,\n",
    "                 os.path.join(out_dir, 'checked-unchecked.pdf'))"
   ]
  },
  {
   "cell_type": "code",
   "execution_count": null,
   "metadata": {},
   "outputs": [],
   "source": [
    "## Checked. Opt in should remain checked.\n",
    "with open(os.path.join(test_dir, 'basic-data.json')) as f:\n",
    "    data = json.load(f)\n",
    "    data['Opt in']=True\n",
    "single_form_fill(os.path.join(test_dir, 'checked.pdf'), data,\n",
    "                 os.path.join(out_dir, 'checked-checked.pdf'))"
   ]
  },
  {
   "cell_type": "markdown",
   "metadata": {},
   "source": [
    "### Complex Inputs\n",
    "The following tests verify radio buttons, list boxes and combo boxes."
   ]
  },
  {
   "cell_type": "code",
   "execution_count": null,
   "metadata": {},
   "outputs": [],
   "source": [
    "## The Radio button should move from '0' to 'More'\n",
    "with open(os.path.join(test_dir, 'basic-data.json')) as f:\n",
    "    data = json.load(f)\n",
    "    data['Radio']='Radio-More'\n",
    "single_form_fill(os.path.join(test_dir, 'full-sample.pdf'), data,\n",
    "                 os.path.join(out_dir, 'radio-test.pdf'))"
   ]
  },
  {
   "cell_type": "code",
   "execution_count": null,
   "metadata": {},
   "outputs": [],
   "source": [
    "## The Colors List Box should change from Yellow/Green to Red/Blue\n",
    "\n",
    "with open(os.path.join(test_dir, 'basic-data.json')) as f:\n",
    "    data = json.load(f)\n",
    "    data['Colors']=['Red', 'Blue']\n",
    "single_form_fill(os.path.join(test_dir, 'full-sample.pdf'), data,\n",
    "                 os.path.join(out_dir, 'listbox-test.pdf'))"
   ]
  },
  {
   "cell_type": "code",
   "execution_count": null,
   "metadata": {},
   "outputs": [],
   "source": [
    "## The Gender List Box should change from Female to Male \n",
    "with open(os.path.join(test_dir, 'basic-data.json')) as f:\n",
    "    data = json.load(f)\n",
    "    data['Gender']='Male'\n",
    "single_form_fill(os.path.join(test_dir, 'full-sample.pdf'), data,\n",
    "                 os.path.join(out_dir, 'combobox-test.pdf'))"
   ]
  },
  {
   "cell_type": "markdown",
   "metadata": {},
   "source": [
    "## TODO add a few tests for batch form filling"
   ]
  },
  {
   "cell_type": "code",
   "execution_count": null,
   "metadata": {},
   "outputs": [],
   "source": []
  }
 ],
 "metadata": {
  "kernelspec": {
   "display_name": "Python 3",
   "language": "python",
   "name": "python3"
  },
  "language_info": {
   "codemirror_mode": {
    "name": "ipython",
    "version": 3
   },
   "file_extension": ".py",
   "mimetype": "text/x-python",
   "name": "python",
   "nbconvert_exporter": "python",
   "pygments_lexer": "ipython3",
   "version": "3.8.5"
  }
 },
 "nbformat": 4,
 "nbformat_minor": 4
}
